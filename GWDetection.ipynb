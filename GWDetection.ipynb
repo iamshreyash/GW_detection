{
  "nbformat": 4,
  "nbformat_minor": 0,
  "metadata": {
    "colab": {
      "provenance": []
    },
    "kernelspec": {
      "name": "python3",
      "display_name": "Python 3"
    },
    "language_info": {
      "name": "python"
    }
  },
  "cells": [
    {
      "cell_type": "code",
      "source": [
        "#Installing the env"
      ],
      "metadata": {
        "id": "iyHKSIp32I0v"
      },
      "execution_count": 8,
      "outputs": []
    },
    {
      "cell_type": "code",
      "execution_count": 1,
      "metadata": {
        "colab": {
          "base_uri": "https://localhost:8080/"
        },
        "id": "Avzgr3Lvmhdb",
        "outputId": "fb038b9a-bb58-4ebc-fbc5-187cffafde5b"
      },
      "outputs": [
        {
          "output_type": "stream",
          "name": "stdout",
          "text": [
            "Requirement already satisfied: h5py in /usr/local/lib/python3.11/dist-packages (3.13.0)\n",
            "Requirement already satisfied: numpy in /usr/local/lib/python3.11/dist-packages (2.0.2)\n",
            "Requirement already satisfied: scipy in /usr/local/lib/python3.11/dist-packages (1.15.2)\n",
            "Requirement already satisfied: tensorflow in /usr/local/lib/python3.11/dist-packages (2.18.0)\n",
            "Requirement already satisfied: matplotlib in /usr/local/lib/python3.11/dist-packages (3.10.0)\n",
            "Collecting pycbc\n",
            "  Downloading pycbc-2.8.2-cp311-cp311-manylinux_2_17_x86_64.manylinux2014_x86_64.whl.metadata (4.6 kB)\n",
            "Requirement already satisfied: absl-py>=1.0.0 in /usr/local/lib/python3.11/dist-packages (from tensorflow) (1.4.0)\n",
            "Requirement already satisfied: astunparse>=1.6.0 in /usr/local/lib/python3.11/dist-packages (from tensorflow) (1.6.3)\n",
            "Requirement already satisfied: flatbuffers>=24.3.25 in /usr/local/lib/python3.11/dist-packages (from tensorflow) (25.2.10)\n",
            "Requirement already satisfied: gast!=0.5.0,!=0.5.1,!=0.5.2,>=0.2.1 in /usr/local/lib/python3.11/dist-packages (from tensorflow) (0.6.0)\n",
            "Requirement already satisfied: google-pasta>=0.1.1 in /usr/local/lib/python3.11/dist-packages (from tensorflow) (0.2.0)\n",
            "Requirement already satisfied: libclang>=13.0.0 in /usr/local/lib/python3.11/dist-packages (from tensorflow) (18.1.1)\n",
            "Requirement already satisfied: opt-einsum>=2.3.2 in /usr/local/lib/python3.11/dist-packages (from tensorflow) (3.4.0)\n",
            "Requirement already satisfied: packaging in /usr/local/lib/python3.11/dist-packages (from tensorflow) (24.2)\n",
            "Requirement already satisfied: protobuf!=4.21.0,!=4.21.1,!=4.21.2,!=4.21.3,!=4.21.4,!=4.21.5,<6.0.0dev,>=3.20.3 in /usr/local/lib/python3.11/dist-packages (from tensorflow) (5.29.4)\n",
            "Requirement already satisfied: requests<3,>=2.21.0 in /usr/local/lib/python3.11/dist-packages (from tensorflow) (2.32.3)\n",
            "Requirement already satisfied: setuptools in /usr/local/lib/python3.11/dist-packages (from tensorflow) (75.2.0)\n",
            "Requirement already satisfied: six>=1.12.0 in /usr/local/lib/python3.11/dist-packages (from tensorflow) (1.17.0)\n",
            "Requirement already satisfied: termcolor>=1.1.0 in /usr/local/lib/python3.11/dist-packages (from tensorflow) (3.0.1)\n",
            "Requirement already satisfied: typing-extensions>=3.6.6 in /usr/local/lib/python3.11/dist-packages (from tensorflow) (4.13.2)\n",
            "Requirement already satisfied: wrapt>=1.11.0 in /usr/local/lib/python3.11/dist-packages (from tensorflow) (1.17.2)\n",
            "Requirement already satisfied: grpcio<2.0,>=1.24.3 in /usr/local/lib/python3.11/dist-packages (from tensorflow) (1.71.0)\n",
            "Requirement already satisfied: tensorboard<2.19,>=2.18 in /usr/local/lib/python3.11/dist-packages (from tensorflow) (2.18.0)\n",
            "Requirement already satisfied: keras>=3.5.0 in /usr/local/lib/python3.11/dist-packages (from tensorflow) (3.8.0)\n",
            "Requirement already satisfied: ml-dtypes<0.5.0,>=0.4.0 in /usr/local/lib/python3.11/dist-packages (from tensorflow) (0.4.1)\n",
            "Requirement already satisfied: tensorflow-io-gcs-filesystem>=0.23.1 in /usr/local/lib/python3.11/dist-packages (from tensorflow) (0.37.1)\n",
            "Requirement already satisfied: contourpy>=1.0.1 in /usr/local/lib/python3.11/dist-packages (from matplotlib) (1.3.2)\n",
            "Requirement already satisfied: cycler>=0.10 in /usr/local/lib/python3.11/dist-packages (from matplotlib) (0.12.1)\n",
            "Requirement already satisfied: fonttools>=4.22.0 in /usr/local/lib/python3.11/dist-packages (from matplotlib) (4.57.0)\n",
            "Requirement already satisfied: kiwisolver>=1.3.1 in /usr/local/lib/python3.11/dist-packages (from matplotlib) (1.4.8)\n",
            "Requirement already satisfied: pillow>=8 in /usr/local/lib/python3.11/dist-packages (from matplotlib) (11.2.1)\n",
            "Requirement already satisfied: pyparsing>=2.3.1 in /usr/local/lib/python3.11/dist-packages (from matplotlib) (3.2.3)\n",
            "Requirement already satisfied: python-dateutil>=2.7 in /usr/local/lib/python3.11/dist-packages (from matplotlib) (2.9.0.post0)\n",
            "Requirement already satisfied: cython>=0.29 in /usr/local/lib/python3.11/dist-packages (from pycbc) (3.0.12)\n",
            "Requirement already satisfied: astropy!=4.0.5,!=4.2.1,>=2.0.3 in /usr/local/lib/python3.11/dist-packages (from pycbc) (7.0.1)\n",
            "Collecting mpld3>=0.3 (from pycbc)\n",
            "  Downloading mpld3-0.5.10-py3-none-any.whl.metadata (5.1 kB)\n",
            "Requirement already satisfied: jinja2 in /usr/local/lib/python3.11/dist-packages (from pycbc) (3.1.6)\n",
            "Requirement already satisfied: Mako>=1.0.1 in /usr/lib/python3/dist-packages (from pycbc) (1.1.3)\n",
            "Requirement already satisfied: beautifulsoup4>=4.6.0 in /usr/local/lib/python3.11/dist-packages (from pycbc) (4.13.4)\n",
            "Requirement already satisfied: tqdm in /usr/local/lib/python3.11/dist-packages (from pycbc) (4.67.1)\n",
            "Collecting gwdatafind (from pycbc)\n",
            "  Downloading gwdatafind-2.0.0-py3-none-any.whl.metadata (3.6 kB)\n",
            "Collecting pegasus-wms.api>=5.0.8 (from pycbc)\n",
            "  Downloading pegasus-wms.api-5.0.9.tar.gz (47 kB)\n",
            "\u001b[2K     \u001b[90m━━━━━━━━━━━━━━━━━━━━━━━━━━━━━━━━━━━━━━━━\u001b[0m \u001b[32m47.6/47.6 kB\u001b[0m \u001b[31m1.6 MB/s\u001b[0m eta \u001b[36m0:00:00\u001b[0m\n",
            "\u001b[?25h  Installing build dependencies ... \u001b[?25l\u001b[?25hdone\n",
            "  Getting requirements to build wheel ... \u001b[?25l\u001b[?25hdone\n",
            "  Preparing metadata (pyproject.toml) ... \u001b[?25l\u001b[?25hdone\n",
            "Collecting python-ligo-lw>=1.7.0 (from pycbc)\n",
            "  Downloading python-ligo-lw-1.8.3.tar.gz (2.3 MB)\n",
            "\u001b[2K     \u001b[90m━━━━━━━━━━━━━━━━━━━━━━━━━━━━━━━━━━━━━━━━\u001b[0m \u001b[32m2.3/2.3 MB\u001b[0m \u001b[31m23.4 MB/s\u001b[0m eta \u001b[36m0:00:00\u001b[0m\n",
            "\u001b[?25h  Preparing metadata (setup.py) ... \u001b[?25l\u001b[?25hdone\n",
            "Collecting igwn-segments (from pycbc)\n",
            "  Downloading igwn_segments-2.0.0-cp311-cp311-manylinux_2_5_x86_64.manylinux1_x86_64.manylinux_2_28_x86_64.whl.metadata (1.9 kB)\n",
            "Collecting lalsuite!=7.2 (from pycbc)\n",
            "  Downloading lalsuite-7.25.1-cp311-cp311-manylinux_2_28_x86_64.whl.metadata (3.2 kB)\n",
            "Collecting lscsoft-glue>=1.59.3 (from pycbc)\n",
            "  Downloading lscsoft_glue-4.1.0-py3-none-any.whl.metadata (1.5 kB)\n",
            "Collecting pykerr (from pycbc)\n",
            "  Downloading pykerr-0.1.0-py3-none-any.whl.metadata (5.4 kB)\n",
            "Requirement already satisfied: pyerfa>=2.0.1.1 in /usr/local/lib/python3.11/dist-packages (from astropy!=4.0.5,!=4.2.1,>=2.0.3->pycbc) (2.0.1.5)\n",
            "Requirement already satisfied: astropy-iers-data>=0.2025.1.31.12.41.4 in /usr/local/lib/python3.11/dist-packages (from astropy!=4.0.5,!=4.2.1,>=2.0.3->pycbc) (0.2025.4.21.0.37.6)\n",
            "Requirement already satisfied: PyYAML>=6.0.0 in /usr/local/lib/python3.11/dist-packages (from astropy!=4.0.5,!=4.2.1,>=2.0.3->pycbc) (6.0.2)\n",
            "Requirement already satisfied: wheel<1.0,>=0.23.0 in /usr/local/lib/python3.11/dist-packages (from astunparse>=1.6.0->tensorflow) (0.45.1)\n",
            "Requirement already satisfied: soupsieve>1.2 in /usr/local/lib/python3.11/dist-packages (from beautifulsoup4>=4.6.0->pycbc) (2.7)\n",
            "Requirement already satisfied: rich in /usr/local/lib/python3.11/dist-packages (from keras>=3.5.0->tensorflow) (13.9.4)\n",
            "Requirement already satisfied: namex in /usr/local/lib/python3.11/dist-packages (from keras>=3.5.0->tensorflow) (0.0.9)\n",
            "Requirement already satisfied: optree in /usr/local/lib/python3.11/dist-packages (from keras>=3.5.0->tensorflow) (0.15.0)\n",
            "Collecting ligo-segments (from lalsuite!=7.2->pycbc)\n",
            "  Downloading ligo-segments-1.4.0.tar.gz (51 kB)\n",
            "\u001b[2K     \u001b[90m━━━━━━━━━━━━━━━━━━━━━━━━━━━━━━━━━━━━━━━━\u001b[0m \u001b[32m51.0/51.0 kB\u001b[0m \u001b[31m2.7 MB/s\u001b[0m eta \u001b[36m0:00:00\u001b[0m\n",
            "\u001b[?25h  Preparing metadata (setup.py) ... \u001b[?25l\u001b[?25hdone\n",
            "Collecting pegasus-wms.common (from pegasus-wms.api>=5.0.8->pycbc)\n",
            "  Downloading pegasus-wms.common-5.0.9.tar.gz (47 kB)\n",
            "\u001b[2K     \u001b[90m━━━━━━━━━━━━━━━━━━━━━━━━━━━━━━━━━━━━━━━━\u001b[0m \u001b[32m47.1/47.1 kB\u001b[0m \u001b[31m2.8 MB/s\u001b[0m eta \u001b[36m0:00:00\u001b[0m\n",
            "\u001b[?25h  Installing build dependencies ... \u001b[?25l\u001b[?25hdone\n",
            "  Getting requirements to build wheel ... \u001b[?25l\u001b[?25hdone\n",
            "  Preparing metadata (pyproject.toml) ... \u001b[?25l\u001b[?25hdone\n",
            "Requirement already satisfied: charset-normalizer<4,>=2 in /usr/local/lib/python3.11/dist-packages (from requests<3,>=2.21.0->tensorflow) (3.4.1)\n",
            "Requirement already satisfied: idna<4,>=2.5 in /usr/local/lib/python3.11/dist-packages (from requests<3,>=2.21.0->tensorflow) (3.10)\n",
            "Requirement already satisfied: urllib3<3,>=1.21.1 in /usr/local/lib/python3.11/dist-packages (from requests<3,>=2.21.0->tensorflow) (2.4.0)\n",
            "Requirement already satisfied: certifi>=2017.4.17 in /usr/local/lib/python3.11/dist-packages (from requests<3,>=2.21.0->tensorflow) (2025.1.31)\n",
            "Requirement already satisfied: markdown>=2.6.8 in /usr/local/lib/python3.11/dist-packages (from tensorboard<2.19,>=2.18->tensorflow) (3.8)\n",
            "Requirement already satisfied: tensorboard-data-server<0.8.0,>=0.7.0 in /usr/local/lib/python3.11/dist-packages (from tensorboard<2.19,>=2.18->tensorflow) (0.7.2)\n",
            "Requirement already satisfied: werkzeug>=1.0.1 in /usr/local/lib/python3.11/dist-packages (from tensorboard<2.19,>=2.18->tensorflow) (3.1.3)\n",
            "Collecting igwn-auth-utils>=0.3.1 (from gwdatafind->pycbc)\n",
            "  Downloading igwn_auth_utils-1.3.1-py3-none-any.whl.metadata (4.1 kB)\n",
            "Requirement already satisfied: MarkupSafe>=2.0 in /usr/local/lib/python3.11/dist-packages (from jinja2->pycbc) (3.0.2)\n",
            "Collecting cryptography>=44.0.1 (from igwn-auth-utils>=0.3.1->gwdatafind->pycbc)\n",
            "  Downloading cryptography-44.0.2-cp39-abi3-manylinux_2_34_x86_64.whl.metadata (5.7 kB)\n",
            "Collecting safe-netrc>=1.0 (from igwn-auth-utils>=0.3.1->gwdatafind->pycbc)\n",
            "  Downloading safe_netrc-1.0.1-py3-none-any.whl.metadata (1.9 kB)\n",
            "Collecting scitokens>=1.8 (from igwn-auth-utils>=0.3.1->gwdatafind->pycbc)\n",
            "  Downloading scitokens-1.8.1-py3-none-any.whl.metadata (12 kB)\n",
            "Requirement already satisfied: markdown-it-py>=2.2.0 in /usr/local/lib/python3.11/dist-packages (from rich->keras>=3.5.0->tensorflow) (3.0.0)\n",
            "Requirement already satisfied: pygments<3.0.0,>=2.13.0 in /usr/local/lib/python3.11/dist-packages (from rich->keras>=3.5.0->tensorflow) (2.19.1)\n",
            "Requirement already satisfied: cffi>=1.12 in /usr/local/lib/python3.11/dist-packages (from cryptography>=44.0.1->igwn-auth-utils>=0.3.1->gwdatafind->pycbc) (1.17.1)\n",
            "Requirement already satisfied: mdurl~=0.1 in /usr/local/lib/python3.11/dist-packages (from markdown-it-py>=2.2.0->rich->keras>=3.5.0->tensorflow) (0.1.2)\n",
            "Requirement already satisfied: PyJWT>=1.6.1 in /usr/local/lib/python3.11/dist-packages (from scitokens>=1.8->igwn-auth-utils>=0.3.1->gwdatafind->pycbc) (2.10.1)\n",
            "Requirement already satisfied: pycparser in /usr/local/lib/python3.11/dist-packages (from cffi>=1.12->cryptography>=44.0.1->igwn-auth-utils>=0.3.1->gwdatafind->pycbc) (2.22)\n",
            "Downloading pycbc-2.8.2-cp311-cp311-manylinux_2_17_x86_64.manylinux2014_x86_64.whl (9.0 MB)\n",
            "\u001b[2K   \u001b[90m━━━━━━━━━━━━━━━━━━━━━━━━━━━━━━━━━━━━━━━━\u001b[0m \u001b[32m9.0/9.0 MB\u001b[0m \u001b[31m105.8 MB/s\u001b[0m eta \u001b[36m0:00:00\u001b[0m\n",
            "\u001b[?25hDownloading lalsuite-7.25.1-cp311-cp311-manylinux_2_28_x86_64.whl (40.4 MB)\n",
            "\u001b[2K   \u001b[90m━━━━━━━━━━━━━━━━━━━━━━━━━━━━━━━━━━━━━━━━\u001b[0m \u001b[32m40.4/40.4 MB\u001b[0m \u001b[31m18.0 MB/s\u001b[0m eta \u001b[36m0:00:00\u001b[0m\n",
            "\u001b[?25hDownloading lscsoft_glue-4.1.0-py3-none-any.whl (50 kB)\n",
            "\u001b[2K   \u001b[90m━━━━━━━━━━━━━━━━━━━━━━━━━━━━━━━━━━━━━━━━\u001b[0m \u001b[32m50.1/50.1 kB\u001b[0m \u001b[31m3.1 MB/s\u001b[0m eta \u001b[36m0:00:00\u001b[0m\n",
            "\u001b[?25hDownloading mpld3-0.5.10-py3-none-any.whl (202 kB)\n",
            "\u001b[2K   \u001b[90m━━━━━━━━━━━━━━━━━━━━━━━━━━━━━━━━━━━━━━━━\u001b[0m \u001b[32m202.6/202.6 kB\u001b[0m \u001b[31m13.3 MB/s\u001b[0m eta \u001b[36m0:00:00\u001b[0m\n",
            "\u001b[?25hDownloading gwdatafind-2.0.0-py3-none-any.whl (39 kB)\n",
            "Downloading igwn_segments-2.0.0-cp311-cp311-manylinux_2_5_x86_64.manylinux1_x86_64.manylinux_2_28_x86_64.whl (110 kB)\n",
            "\u001b[2K   \u001b[90m━━━━━━━━━━━━━━━━━━━━━━━━━━━━━━━━━━━━━━━━\u001b[0m \u001b[32m110.5/110.5 kB\u001b[0m \u001b[31m6.0 MB/s\u001b[0m eta \u001b[36m0:00:00\u001b[0m\n",
            "\u001b[?25hDownloading pykerr-0.1.0-py3-none-any.whl (48.1 MB)\n",
            "\u001b[2K   \u001b[90m━━━━━━━━━━━━━━━━━━━━━━━━━━━━━━━━━━━━━━━━\u001b[0m \u001b[32m48.1/48.1 MB\u001b[0m \u001b[31m18.8 MB/s\u001b[0m eta \u001b[36m0:00:00\u001b[0m\n",
            "\u001b[?25hDownloading igwn_auth_utils-1.3.1-py3-none-any.whl (34 kB)\n",
            "Downloading cryptography-44.0.2-cp39-abi3-manylinux_2_34_x86_64.whl (4.2 MB)\n",
            "\u001b[2K   \u001b[90m━━━━━━━━━━━━━━━━━━━━━━━━━━━━━━━━━━━━━━━━\u001b[0m \u001b[32m4.2/4.2 MB\u001b[0m \u001b[31m86.1 MB/s\u001b[0m eta \u001b[36m0:00:00\u001b[0m\n",
            "\u001b[?25hDownloading safe_netrc-1.0.1-py3-none-any.whl (10 kB)\n",
            "Downloading scitokens-1.8.1-py3-none-any.whl (31 kB)\n",
            "Building wheels for collected packages: pegasus-wms.api, python-ligo-lw, ligo-segments, pegasus-wms.common\n",
            "  Building wheel for pegasus-wms.api (pyproject.toml) ... \u001b[?25l\u001b[?25hdone\n",
            "  Created wheel for pegasus-wms.api: filename=pegasus_wms.api-5.0.9-py3-none-any.whl size=50501 sha256=915c228a706e0dc95a39fb4dd243ec02a0b4b6f46dbcfefedc1d066bdc3feab0\n",
            "  Stored in directory: /root/.cache/pip/wheels/0a/bd/57/326d054073a07633fd57cf57b2bafe2da52e807dda321d3762\n",
            "  Building wheel for python-ligo-lw (setup.py) ... \u001b[?25l\u001b[?25hdone\n",
            "  Created wheel for python-ligo-lw: filename=python_ligo_lw-1.8.3-cp311-cp311-linux_x86_64.whl size=157909 sha256=019885c6ece205a227ffded7f5cbe3ca01c55e8c20eb00335f04159c5a8db21f\n",
            "  Stored in directory: /root/.cache/pip/wheels/dc/3a/a1/2400e079ce9e36a572fa67ccd3645e87b9abba772b6a7dfe98\n",
            "  Building wheel for ligo-segments (setup.py) ... \u001b[?25l\u001b[?25hdone\n",
            "  Created wheel for ligo-segments: filename=ligo_segments-1.4.0-cp311-cp311-linux_x86_64.whl size=102032 sha256=7f01458bcea6804bbac8d117ac650206f9b191926e890a06a7be2b81434056c0\n",
            "  Stored in directory: /root/.cache/pip/wheels/02/2b/93/c2ee2b6f4ea9572ee4f5ade0115c4bd0887be6228328740dae\n",
            "  Building wheel for pegasus-wms.common (pyproject.toml) ... \u001b[?25l\u001b[?25hdone\n",
            "  Created wheel for pegasus-wms.common: filename=pegasus_wms.common-5.0.9-py3-none-any.whl size=50839 sha256=83e70061692c8e62f2b7b922c0674f254c70ff4452cbc39474e981424fa5d41d\n",
            "  Stored in directory: /root/.cache/pip/wheels/a8/2d/ae/5e5b9e2ff0179596560483395ada98c369fa972a8dd6892a85\n",
            "Successfully built pegasus-wms.api python-ligo-lw ligo-segments pegasus-wms.common\n",
            "Installing collected packages: igwn-segments, safe-netrc, pegasus-wms.common, lscsoft-glue, ligo-segments, python-ligo-lw, pykerr, pegasus-wms.api, cryptography, scitokens, mpld3, lalsuite, igwn-auth-utils, gwdatafind, pycbc\n",
            "  Attempting uninstall: cryptography\n",
            "    Found existing installation: cryptography 43.0.3\n",
            "    Uninstalling cryptography-43.0.3:\n",
            "      Successfully uninstalled cryptography-43.0.3\n",
            "\u001b[31mERROR: pip's dependency resolver does not currently take into account all the packages that are installed. This behaviour is the source of the following dependency conflicts.\n",
            "pyopenssl 24.2.1 requires cryptography<44,>=41.0.5, but you have cryptography 44.0.2 which is incompatible.\n",
            "pydrive2 1.21.3 requires cryptography<44, but you have cryptography 44.0.2 which is incompatible.\u001b[0m\u001b[31m\n",
            "\u001b[0mSuccessfully installed cryptography-44.0.2 gwdatafind-2.0.0 igwn-auth-utils-1.3.1 igwn-segments-2.0.0 lalsuite-7.25.1 ligo-segments-1.4.0 lscsoft-glue-4.1.0 mpld3-0.5.10 pegasus-wms.api-5.0.9 pegasus-wms.common-5.0.9 pycbc-2.8.2 pykerr-0.1.0 python-ligo-lw-1.8.3 safe-netrc-1.0.1 scitokens-1.8.1\n"
          ]
        }
      ],
      "source": [
        "pip install h5py numpy scipy tensorflow matplotlib pycbc"
      ]
    },
    {
      "cell_type": "code",
      "source": [
        "import warnings\n",
        "warnings.filterwarnings(\"ignore\", message=\"Wswiglal-redir-stdio\")\n",
        "import lal"
      ],
      "metadata": {
        "id": "Jnn5sk1K17Fm"
      },
      "execution_count": 6,
      "outputs": []
    },
    {
      "cell_type": "code",
      "source": [
        "import lal\n",
        "lal.swig_redirect_standard_output_error(False)"
      ],
      "metadata": {
        "colab": {
          "base_uri": "https://localhost:8080/"
        },
        "id": "dUNaq1_o2DjG",
        "outputId": "f0c9a2ac-69cb-4772-b37d-88fde9a501c1"
      },
      "execution_count": 7,
      "outputs": [
        {
          "output_type": "execute_result",
          "data": {
            "text/plain": [
              "True"
            ]
          },
          "metadata": {},
          "execution_count": 7
        }
      ]
    },
    {
      "cell_type": "code",
      "source": [],
      "metadata": {
        "id": "lnU5a6ce5m-t"
      },
      "execution_count": null,
      "outputs": []
    },
    {
      "cell_type": "code",
      "source": [
        "# Import libraries\n",
        "import h5py\n",
        "import numpy as np\n",
        "from scipy.signal import butter, filtfilt, welch\n",
        "from scipy.fft import fft, ifft\n",
        "import tensorflow as tf\n",
        "from tensorflow.keras import layers, models\n",
        "from sklearn.model_selection import train_test_split\n",
        "from sklearn.metrics import classification_report, confusion_matrix\n",
        "from pycbc.waveform import get_td_waveform\n",
        "import matplotlib.pyplot as plt"
      ],
      "metadata": {
        "id": "OiAchf9J1jb0"
      },
      "execution_count": 18,
      "outputs": []
    },
    {
      "cell_type": "code",
      "source": [
        "# Set random seed for reproducibility\n",
        "np.random.seed(42)\n",
        "tf.random.set_seed(42)"
      ],
      "metadata": {
        "id": "edm7jI6U5gP4"
      },
      "execution_count": 19,
      "outputs": []
    },
    {
      "cell_type": "code",
      "source": [
        "# Define preprocessing functions\n",
        "def normalize(strain):\n",
        "    \"\"\"Standardize strain data to zero mean and unit variance.\"\"\"\n",
        "    return (strain - np.mean(strain)) / np.std(strain)\n",
        "\n",
        "def whiten(strain, dt, freq_band=[20, 500]):\n",
        "    \"\"\"Whiten strain data using PSD.\"\"\"\n",
        "    nperseg = int(fs / 2)  # Reduced for better frequency resolution\n",
        "    freqs, psd = welch(strain, fs=1/dt, nperseg=nperseg)\n",
        "    fft_strain = fft(strain)\n",
        "    freqs_fft = np.fft.fftfreq(len(strain), dt)\n",
        "    psd_interp = np.interp(np.abs(freqs_fft), freqs, psd)\n",
        "    white_fft = fft_strain / np.sqrt(psd_interp)\n",
        "    white_strain = np.real(ifft(white_fft))\n",
        "    return white_strain, freqs, psd\n",
        "\n",
        "def bandpass(strain, fs, freq_band=[20, 500]):\n",
        "    \"\"\"Apply bandpass filter to strain data.\"\"\"\n",
        "    nyquist = fs / 2\n",
        "    low = freq_band[0] / nyquist\n",
        "    high = freq_band[1] / nyquist\n",
        "    b, a = butter(4, [low, high], btype='band')\n",
        "    return filtfilt(b, a, strain)\n"
      ],
      "metadata": {
        "id": "3sk-28DpFpTj"
      },
      "execution_count": 36,
      "outputs": []
    },
    {
      "cell_type": "code",
      "source": [
        "# Load the dataset\n",
        "filename = 'H-H1_LOSC_16_V1-1126259446-32.hdf5'\n",
        "try:\n",
        "    with h5py.File(filename, 'r') as f:\n",
        "        strain = f['strain']['Strain'][:]  # Strain data\n",
        "        gps_start = f['meta']['GPSstart'][()]  # GPS start time\n",
        "        duration = f['meta']['Duration'][()]  # Duration (32 seconds)\n",
        "except FileNotFoundError:\n",
        "    raise FileNotFoundError(f\"File {filename} not found. Download from https://losc.ligo.org/\")"
      ],
      "metadata": {
        "id": "cI-6j1JO5tCt"
      },
      "execution_count": 37,
      "outputs": []
    },
    {
      "cell_type": "code",
      "source": [
        "# Create time vector\n",
        "fs = 16384  # Sampling rate (Hz)\n",
        "dt = 1 / fs\n",
        "time = np.arange(0, len(strain)) * dt + gps_start"
      ],
      "metadata": {
        "id": "pdx7oyzZ-0KM"
      },
      "execution_count": 38,
      "outputs": []
    },
    {
      "cell_type": "code",
      "source": [
        "# Preprocessing functions\n",
        "def whiten(strain, dt, freq_band=[20, 500]):\n",
        "    nperseg = int(fs)  # Use 1-second segments for PSD estimation\n",
        "    freqs, psd = welch(strain, fs=1/dt, nperseg=nperseg)\n",
        "    fft_strain = fft(strain)\n",
        "    freqs_fft = np.fft.fftfreq(len(strain), dt)\n",
        "    psd_interp = np.interp(np.abs(freqs_fft), freqs, psd)\n",
        "    white_fft = fft_strain / np.sqrt(psd_interp)\n",
        "    white_strain = np.real(ifft(white_fft))\n",
        "    return white_strain, freqs, psd\n",
        "\n",
        "def bandpass(strain, fs, freq_band=[20, 500]):\n",
        "    nyquist = fs / 2\n",
        "    low = freq_band[0] / nyquist\n",
        "    high = freq_band[1] / nyquist\n",
        "    b, a = butter(4, [low, high], btype='band')\n",
        "    return filtfilt(b, a, strain)"
      ],
      "metadata": {
        "id": "mOuhanLD-7f2"
      },
      "execution_count": 39,
      "outputs": []
    },
    {
      "cell_type": "code",
      "source": [
        "# Preprocess data\n",
        "strain_whitened, freqs, psd = whiten(strain, dt)\n",
        "strain_processed = bandpass(strain_whitened, fs)"
      ],
      "metadata": {
        "id": "NoJ6ODSy-8kO"
      },
      "execution_count": 44,
      "outputs": []
    },
    {
      "cell_type": "code",
      "source": [
        "# Segment into 1-second windows\n",
        "window_size = 1.0  # 1 second\n",
        "samples_per_window = int(window_size * fs)\n",
        "segments = [strain_processed[i:i + samples_per_window]\n",
        "            for i in range(0, len(strain_processed) - samples_per_window + 1, samples_per_window)]\n",
        "segments = np.array(segments)  # Shape: (num_segments, 16384)"
      ],
      "metadata": {
        "id": "tQCt6qih_EI9"
      },
      "execution_count": 45,
      "outputs": []
    },
    {
      "cell_type": "code",
      "source": [
        "# Label segments\n",
        "event_time = 1126259442.4  # GPS time of GW150914\n",
        "labels = []\n",
        "segment_times = time[::samples_per_window][:len(segments)]\n",
        "for t in segment_times:\n",
        "    if abs(t + window_size/2 - event_time) < 0.2:  # Signal within 0.2 seconds\n",
        "        labels.append(1)  # Signal\n",
        "    else:\n",
        "        labels.append(0)  # Noise\n",
        "labels = np.array(labels)"
      ],
      "metadata": {
        "id": "CaTKa7Gg_Hbg"
      },
      "execution_count": 46,
      "outputs": []
    },
    {
      "cell_type": "code",
      "source": [
        "# Data augmentation\n",
        "def generate_noise(num_samples, freqs, psd, fs):\n",
        "    noise = np.random.randn(num_samples)\n",
        "    fft_noise = fft(noise)\n",
        "    freqs_fft = np.fft.fftfreq(num_samples, 1/fs)\n",
        "    psd_interp = np.interp(np.abs(freqs_fft), freqs, psd)\n",
        "    fft_noise *= np.sqrt(psd_interp)\n",
        "    noise = np.real(ifft(fft_noise))\n",
        "    return noise\n",
        "\n",
        "def generate_signal_plus_noise(num_samples, fs, freqs, psd, mass1=36, mass2=29, snr=20):\n",
        "    try:\n",
        "        hp, _ = get_td_waveform(approximant=\"SEOBNRv4\", mass1=mass1, mass2=mass2,\n",
        "                                delta_t=1/fs, f_lower=20)\n",
        "        signal = np.array(hp)\n",
        "        signal = np.pad(signal, (0, num_samples - len(signal)), 'constant')\n",
        "        # Scale signal to achieve desired SNR\n",
        "        noise = generate_noise(num_samples, freqs, psd, fs)\n",
        "        signal_power = np.mean(signal ** 2)\n",
        "        noise_power = np.mean(noise ** 2)\n",
        "        scale = np.sqrt(snr * noise_power / signal_power)\n",
        "        strain = noise + signal * scale\n",
        "        strain_processed = whiten(bandpass(strain, fs), dt=1/fs)[0]\n",
        "        return normalize(strain_processed)\n",
        "    except Exception as e:\n",
        "        print(f\"Error generating waveform: {e}\")\n",
        "        return None\n"
      ],
      "metadata": {
        "id": "6qqo0dB1_Ivo"
      },
      "execution_count": 47,
      "outputs": []
    },
    {
      "cell_type": "code",
      "source": [
        "# Generate 500 noise and 500 signal segments\n",
        "noise_segments = [normalize(whiten(bandpass(generate_noise(samples_per_window, freqs, psd, fs), fs), dt=1/fs)[0])\n",
        "                  for _ in range(500)]\n",
        "noise_segments = np.array(noise_segments)\n",
        "noise_labels = np.zeros(len(noise_segments))\n",
        "\n",
        "signal_segments = [generate_signal_plus_noise(samples_per_window, fs, freqs, psd, snr=20)\n",
        "                   for _ in range(500)]\n",
        "signal_segments = np.array([s for s in signal_segments if s is not None])  # Filter failed generations\n",
        "signal_labels = np.ones(len(signal_segments))\n"
      ],
      "metadata": {
        "id": "o9z9oiWX_Uzx"
      },
      "execution_count": 48,
      "outputs": []
    },
    {
      "cell_type": "code",
      "source": [
        "# Combine data\n",
        "X = np.concatenate([segments, noise_segments, signal_segments], axis=0)  # Shape: (~232, 16384)\n",
        "y = np.concatenate([labels, noise_labels, signal_labels], axis=0)\n",
        "X = X[:, :, np.newaxis]  # Shape: (~232, 16384, 1)\n"
      ],
      "metadata": {
        "id": "m62oZhzPAb8o"
      },
      "execution_count": 49,
      "outputs": []
    },
    {
      "cell_type": "code",
      "source": [
        "# Build simplified CNN model\n",
        "def build_1d_cnn(input_shape=(16384, 1)):\n",
        "    model = models.Sequential([\n",
        "        layers.Conv1D(16, kernel_size=8, activation='relu', input_shape=input_shape,\n",
        "                      kernel_regularizer=tf.keras.regularizers.l2(0.01)),\n",
        "        layers.MaxPooling1D(pool_size=2),\n",
        "        layers.Conv1D(32, kernel_size=8, activation='relu'),\n",
        "        layers.MaxPooling1D(pool_size=2),\n",
        "        layers.GlobalMaxPooling1D(),\n",
        "        layers.Dense(32, activation='relu'),\n",
        "        layers.Dropout(0.5),\n",
        "        layers.Dense(1, activation='sigmoid')\n",
        "    ])\n",
        "    model.compile(optimizer=tf.keras.optimizers.Adam(learning_rate=0.0001, clipnorm=1.0),\n",
        "                  loss='binary_crossentropy', metrics=['accuracy'])\n",
        "    return model"
      ],
      "metadata": {
        "id": "DxP_DLY9Afwa"
      },
      "execution_count": 50,
      "outputs": []
    },
    {
      "cell_type": "code",
      "source": [
        "# Train-test split\n",
        "X_train, X_test, y_train, y_test = train_test_split(X, y, test_size=0.2, random_state=42)"
      ],
      "metadata": {
        "id": "PVc5YiUPAhG_"
      },
      "execution_count": 51,
      "outputs": []
    },
    {
      "cell_type": "code",
      "source": [
        "# Train model with class weights\n",
        "class_weights = {0: 1.0, 1: 2.0}  # Weight signals higher\n",
        "model = build_1d_cnn()\n",
        "history = model.fit(X_train, y_train, epochs=20, batch_size=16,\n",
        "                   validation_data=(X_test, y_test), class_weight=class_weights, verbose=1)\n"
      ],
      "metadata": {
        "colab": {
          "base_uri": "https://localhost:8080/"
        },
        "id": "ICZesKi9AsBr",
        "outputId": "1c3b3fbf-e4f1-43ae-dac4-b8a7e21788b3"
      },
      "execution_count": 52,
      "outputs": [
        {
          "output_type": "stream",
          "name": "stdout",
          "text": [
            "Epoch 1/20\n",
            "\u001b[1m52/52\u001b[0m \u001b[32m━━━━━━━━━━━━━━━━━━━━\u001b[0m\u001b[37m\u001b[0m \u001b[1m16s\u001b[0m 271ms/step - accuracy: 0.5658 - loss: 1.1984 - val_accuracy: 0.9130 - val_loss: 0.3537\n",
            "Epoch 2/20\n",
            "\u001b[1m52/52\u001b[0m \u001b[32m━━━━━━━━━━━━━━━━━━━━\u001b[0m\u001b[37m\u001b[0m \u001b[1m19s\u001b[0m 251ms/step - accuracy: 0.8184 - loss: 0.7014 - val_accuracy: 0.9227 - val_loss: 0.2600\n",
            "Epoch 3/20\n",
            "\u001b[1m52/52\u001b[0m \u001b[32m━━━━━━━━━━━━━━━━━━━━\u001b[0m\u001b[37m\u001b[0m \u001b[1m21s\u001b[0m 260ms/step - accuracy: 0.8626 - loss: 0.4914 - val_accuracy: 0.9275 - val_loss: 0.2308\n",
            "Epoch 4/20\n",
            "\u001b[1m52/52\u001b[0m \u001b[32m━━━━━━━━━━━━━━━━━━━━\u001b[0m\u001b[37m\u001b[0m \u001b[1m22s\u001b[0m 281ms/step - accuracy: 0.8917 - loss: 0.4554 - val_accuracy: 0.9324 - val_loss: 0.2143\n",
            "Epoch 5/20\n",
            "\u001b[1m52/52\u001b[0m \u001b[32m━━━━━━━━━━━━━━━━━━━━\u001b[0m\u001b[37m\u001b[0m \u001b[1m19s\u001b[0m 254ms/step - accuracy: 0.8795 - loss: 0.4365 - val_accuracy: 0.9275 - val_loss: 0.2078\n",
            "Epoch 6/20\n",
            "\u001b[1m52/52\u001b[0m \u001b[32m━━━━━━━━━━━━━━━━━━━━\u001b[0m\u001b[37m\u001b[0m \u001b[1m20s\u001b[0m 251ms/step - accuracy: 0.8968 - loss: 0.3889 - val_accuracy: 0.9469 - val_loss: 0.1927\n",
            "Epoch 7/20\n",
            "\u001b[1m52/52\u001b[0m \u001b[32m━━━━━━━━━━━━━━━━━━━━\u001b[0m\u001b[37m\u001b[0m \u001b[1m21s\u001b[0m 253ms/step - accuracy: 0.9054 - loss: 0.3823 - val_accuracy: 0.9372 - val_loss: 0.1953\n",
            "Epoch 8/20\n",
            "\u001b[1m52/52\u001b[0m \u001b[32m━━━━━━━━━━━━━━━━━━━━\u001b[0m\u001b[37m\u001b[0m \u001b[1m21s\u001b[0m 262ms/step - accuracy: 0.9030 - loss: 0.3810 - val_accuracy: 0.9372 - val_loss: 0.1960\n",
            "Epoch 9/20\n",
            "\u001b[1m52/52\u001b[0m \u001b[32m━━━━━━━━━━━━━━━━━━━━\u001b[0m\u001b[37m\u001b[0m \u001b[1m21s\u001b[0m 272ms/step - accuracy: 0.9170 - loss: 0.3238 - val_accuracy: 0.9420 - val_loss: 0.1952\n",
            "Epoch 10/20\n",
            "\u001b[1m52/52\u001b[0m \u001b[32m━━━━━━━━━━━━━━━━━━━━\u001b[0m\u001b[37m\u001b[0m \u001b[1m20s\u001b[0m 267ms/step - accuracy: 0.9252 - loss: 0.3277 - val_accuracy: 0.9420 - val_loss: 0.1859\n",
            "Epoch 11/20\n",
            "\u001b[1m52/52\u001b[0m \u001b[32m━━━━━━━━━━━━━━━━━━━━\u001b[0m\u001b[37m\u001b[0m \u001b[1m20s\u001b[0m 261ms/step - accuracy: 0.9278 - loss: 0.3390 - val_accuracy: 0.9420 - val_loss: 0.1880\n",
            "Epoch 12/20\n",
            "\u001b[1m52/52\u001b[0m \u001b[32m━━━━━━━━━━━━━━━━━━━━\u001b[0m\u001b[37m\u001b[0m \u001b[1m20s\u001b[0m 251ms/step - accuracy: 0.9167 - loss: 0.4132 - val_accuracy: 0.9469 - val_loss: 0.1828\n",
            "Epoch 13/20\n",
            "\u001b[1m52/52\u001b[0m \u001b[32m━━━━━━━━━━━━━━━━━━━━\u001b[0m\u001b[37m\u001b[0m \u001b[1m21s\u001b[0m 260ms/step - accuracy: 0.9251 - loss: 0.3302 - val_accuracy: 0.9420 - val_loss: 0.1899\n",
            "Epoch 14/20\n",
            "\u001b[1m52/52\u001b[0m \u001b[32m━━━━━━━━━━━━━━━━━━━━\u001b[0m\u001b[37m\u001b[0m \u001b[1m21s\u001b[0m 270ms/step - accuracy: 0.9252 - loss: 0.3368 - val_accuracy: 0.9469 - val_loss: 0.1746\n",
            "Epoch 15/20\n",
            "\u001b[1m52/52\u001b[0m \u001b[32m━━━━━━━━━━━━━━━━━━━━\u001b[0m\u001b[37m\u001b[0m \u001b[1m20s\u001b[0m 261ms/step - accuracy: 0.9277 - loss: 0.3291 - val_accuracy: 0.9469 - val_loss: 0.1741\n",
            "Epoch 16/20\n",
            "\u001b[1m52/52\u001b[0m \u001b[32m━━━━━━━━━━━━━━━━━━━━\u001b[0m\u001b[37m\u001b[0m \u001b[1m21s\u001b[0m 273ms/step - accuracy: 0.9245 - loss: 0.5206 - val_accuracy: 0.9420 - val_loss: 0.1648\n",
            "Epoch 17/20\n",
            "\u001b[1m52/52\u001b[0m \u001b[32m━━━━━━━━━━━━━━━━━━━━\u001b[0m\u001b[37m\u001b[0m \u001b[1m14s\u001b[0m 261ms/step - accuracy: 0.9137 - loss: 0.3660 - val_accuracy: 0.9469 - val_loss: 0.1662\n",
            "Epoch 18/20\n",
            "\u001b[1m52/52\u001b[0m \u001b[32m━━━━━━━━━━━━━━━━━━━━\u001b[0m\u001b[37m\u001b[0m \u001b[1m14s\u001b[0m 264ms/step - accuracy: 0.9257 - loss: 0.3097 - val_accuracy: 0.9469 - val_loss: 0.1728\n",
            "Epoch 19/20\n",
            "\u001b[1m52/52\u001b[0m \u001b[32m━━━━━━━━━━━━━━━━━━━━\u001b[0m\u001b[37m\u001b[0m \u001b[1m20s\u001b[0m 263ms/step - accuracy: 0.9145 - loss: 0.3203 - val_accuracy: 0.9469 - val_loss: 0.1816\n",
            "Epoch 20/20\n",
            "\u001b[1m52/52\u001b[0m \u001b[32m━━━━━━━━━━━━━━━━━━━━\u001b[0m\u001b[37m\u001b[0m \u001b[1m21s\u001b[0m 266ms/step - accuracy: 0.9308 - loss: 0.3242 - val_accuracy: 0.9469 - val_loss: 0.1682\n"
          ]
        }
      ]
    },
    {
      "cell_type": "code",
      "source": [
        "# Evaluate model\n",
        "y_pred = (model.predict(X_test) > 0.5).astype(int)\n",
        "print(classification_report(y_test, y_pred, target_names=['Noise', 'Signal']))"
      ],
      "metadata": {
        "colab": {
          "base_uri": "https://localhost:8080/"
        },
        "id": "QPQA4RAQJN0V",
        "outputId": "ac9f69d4-6ef0-492e-b9a3-b8518ee5a97d"
      },
      "execution_count": 53,
      "outputs": [
        {
          "output_type": "stream",
          "name": "stdout",
          "text": [
            "\u001b[1m7/7\u001b[0m \u001b[32m━━━━━━━━━━━━━━━━━━━━\u001b[0m\u001b[37m\u001b[0m \u001b[1m3s\u001b[0m 349ms/step\n",
            "              precision    recall  f1-score   support\n",
            "\n",
            "       Noise       1.00      0.89      0.94       104\n",
            "      Signal       0.90      1.00      0.95       103\n",
            "\n",
            "    accuracy                           0.95       207\n",
            "   macro avg       0.95      0.95      0.95       207\n",
            "weighted avg       0.95      0.95      0.95       207\n",
            "\n"
          ]
        }
      ]
    },
    {
      "cell_type": "code",
      "source": [
        "# Confusion matrix\n",
        "cm = confusion_matrix(y_test, y_pred)\n",
        "plt.figure(figsize=(6, 4))\n",
        "plt.imshow(cm, cmap='Blues')\n",
        "plt.title('Confusion Matrix')\n",
        "plt.colorbar()\n",
        "plt.xlabel('Predicted')\n",
        "plt.ylabel('True')\n",
        "plt.xticks([0, 1], ['Noise', 'Signal'])\n",
        "plt.yticks([0, 1], ['Noise', 'Signal'])\n",
        "for i in range(2):\n",
        "    for j in range(2):\n",
        "        plt.text(j, i, cm[i, j], ha='center', va='center', color='black')\n",
        "plt.savefig('confusion_matrix.png')"
      ],
      "metadata": {
        "colab": {
          "base_uri": "https://localhost:8080/",
          "height": 410
        },
        "id": "FewuCvdeJSM7",
        "outputId": "a8889205-dcef-4647-a1d0-517214e20507"
      },
      "execution_count": 54,
      "outputs": [
        {
          "output_type": "display_data",
          "data": {
            "text/plain": [
              "<Figure size 600x400 with 2 Axes>"
            ],
            "image/png": "[encoded data removed]"
          },
          "metadata": {}
        }
      ]
    },
    {
      "cell_type": "code",
      "source": [
        "# Training history\n",
        "plt.figure(figsize=(12, 4))\n",
        "plt.subplot(1, 2, 1)\n",
        "plt.plot(history.history['accuracy'], label='Train Accuracy')\n",
        "plt.plot(history.history['val_accuracy'], label='Val Accuracy')\n",
        "plt.title('Model Accuracy')\n",
        "plt.xlabel('Epoch')\n",
        "plt.ylabel('Accuracy')\n",
        "plt.legend()\n",
        "\n",
        "plt.subplot(1, 2, 2)\n",
        "plt.plot(history.history['loss'], label='Train Loss')\n",
        "plt.plot(history.history['val_loss'], label='Val Loss')\n",
        "plt.title('Model Loss')\n",
        "plt.xlabel('Epoch')\n",
        "plt.ylabel('Loss')\n",
        "plt.legend()\n",
        "plt.savefig('training_history.png')\n",
        "plt.show()"
      ],
      "metadata": {
        "colab": {
          "base_uri": "https://localhost:8080/",
          "height": 410
        },
        "id": "y3WwaHzuJYHC",
        "outputId": "699ced31-ec50-4303-d66b-9c3212253640"
      },
      "execution_count": 55,
      "outputs": [
        {
          "output_type": "display_data",
          "data": {
            "text/plain": [
              "<Figure size 1200x400 with 2 Axes>"
            ],
            "image/png": "[encoded data removed]"
          },
          "metadata": {}
        }
      ]
    }
  ]
}